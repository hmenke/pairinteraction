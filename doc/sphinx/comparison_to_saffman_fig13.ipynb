{
 "metadata": {
  "name": "",
  "signature": "sha256:b0024851f16a1b86792873a7ddce5d558b793f84ea7d1aab207e24da0164f3cf"
 },
 "nbformat": 3,
 "nbformat_minor": 0,
 "worksheets": [
  {
   "cells": [
    {
     "cell_type": "heading",
     "level": 1,
     "metadata": {},
     "source": [
      "Blockade Interaction in a Magnetic Field"
     ]
    },
    {
     "cell_type": "markdown",
     "metadata": {},
     "source": [
      "The interaction between Rydberg atoms is strongly influenced by external electric and magnetic fields. A small magnetic field for instance lifts the Zeeman degeneracy and thus strengthens the Rydberg blockade, especially if there is a non-zero angle between the interatomic and the quantization axis. This has been discussed in M. Saffman, T. G. Walker, and K. M\u00f8lmer, \u201cQuantum information with Rydberg atoms,\u201d [Rev. Mod. Phys. 82, 2313 (2010)](https://dx.doi.org/10.1103/RevModPhys.82.2313) (Fig. 13).  Here we show how to reproduce this result using pairinteraction."
     ]
    },
    {
     "cell_type": "markdown",
     "metadata": {},
     "source": [
      "We start by loading the required modules for the computation.  We will make use of pairinteraction's parallel capacities which is why we load the `multiprocessing` module."
     ]
    },
    {
     "cell_type": "code",
     "collapsed": false,
     "input": [
      "%matplotlib inline"
     ],
     "language": "python",
     "metadata": {},
     "outputs": [],
     "prompt_number": 1
    },
    {
     "cell_type": "code",
     "collapsed": false,
     "input": [
      "import os\n",
      "import numpy as np\n",
      "import matplotlib.pyplot as plt\n",
      "from multiprocessing import Pool\n",
      "from libpairinteraction import pireal as pi"
     ],
     "language": "python",
     "metadata": {},
     "outputs": [],
     "prompt_number": 2
    },
    {
     "cell_type": "markdown",
     "metadata": {},
     "source": [
      "We begin by defining some constants of our calculation: the spatial separation of the Rydberg atoms and a range of magnetic field we want to iterate over.  The units of the respective quantities are given as comments."
     ]
    },
    {
     "cell_type": "code",
     "collapsed": false,
     "input": [
      "distance = 10 # \u00b5m\n",
      "bfields = np.linspace(0, 20, 200) # Gauss"
     ],
     "language": "python",
     "metadata": {},
     "outputs": [],
     "prompt_number": 3
    },
    {
     "cell_type": "markdown",
     "metadata": {},
     "source": [
      "Now, we use pairinteraction's `StateOne` class to define the single-atom state $43d_{5/2}$ of a Rubudium atom."
     ]
    },
    {
     "cell_type": "code",
     "collapsed": false,
     "input": [
      "state_one = pi.StateOne(\"Rb\", 43, 2, 2.5, 0.5)"
     ],
     "language": "python",
     "metadata": {},
     "outputs": [],
     "prompt_number": 4
    },
    {
     "cell_type": "markdown",
     "metadata": {},
     "source": [
      "To speed up the calculation, pairinteraction caches intermediate results, like matrix elements, for reuse.  Therefore we create a cache directory, dedicated to such files."
     ]
    },
    {
     "cell_type": "code",
     "collapsed": false,
     "input": [
      "if not os.path.exists(\"./cache\"):\n",
      "    os.makedirs(\"./cache\")"
     ],
     "language": "python",
     "metadata": {},
     "outputs": [],
     "prompt_number": 5
    },
    {
     "cell_type": "markdown",
     "metadata": {},
     "source": [
      "Next, we define how to set up the single atom system.  We do this using a function, so we can easily create systems with the magnetic field as a parameter.  Inside the function we create a new system by passing the `state_one` and the cache directory we created to `SystemOne`.\n",
      "\n",
      "Because energies are calculated non-perturbatively, we have to choose cutoffs on states which can couple to `state_one`.  This is done by means of the `restrict...` functions in `SystemOne`.\n",
      "\n",
      "Finally, we set the magnetic field to point in $z$-direction with the magnitude given by the argument."
     ]
    },
    {
     "cell_type": "code",
     "collapsed": false,
     "input": [
      "def setup_system_one(bfield):\n",
      "    system_one = pi.SystemOne(state_one.element, \"./cache\")\n",
      "    system_one.restrictEnergy(state_one.energy-100, state_one.energy+100)\n",
      "    system_one.restrictN(state_one.n-2, state_one.n+2)\n",
      "    system_one.restrictL(state_one.l-2, state_one.l+2)\n",
      "    system_one.setBfield([0, 0, bfield])\n",
      "    return system_one"
     ],
     "language": "python",
     "metadata": {},
     "outputs": [],
     "prompt_number": 6
    },
    {
     "cell_type": "markdown",
     "metadata": {},
     "source": [
      "To investigate the $43d_{5/2} + 43d_{5/2}$ pair state, we easily combine the same single-atom state twice into a pair state using `StateTwo`."
     ]
    },
    {
     "cell_type": "code",
     "collapsed": false,
     "input": [
      "state_two = pi.StateTwo(state_one, state_one)"
     ],
     "language": "python",
     "metadata": {},
     "outputs": [],
     "prompt_number": 7
    },
    {
     "cell_type": "markdown",
     "metadata": {},
     "source": [
      "Akin to the single atom system, we now define how to create a two atom system.  We want to parametrize this in terms of the single atom system and the interaction angle.\n",
      "\n",
      "We compose a `SystemTwo` from two `system_one` because we are looking at two identical atoms.  Again we have to restrict the energy range for coupling.  Then we proceed to set the distance between the two atoms and the interaction angle.\n",
      "\n",
      "To speed up the calculation, we can tell pairinteraction that this system will have some symmetries."
     ]
    },
    {
     "cell_type": "code",
     "collapsed": false,
     "input": [
      "def setup_system_two(system_one,angle):\n",
      "    system_two = pi.SystemTwo(system_one, system_one, \"./cache\")\n",
      "    system_two.restrictEnergy(state_two.energy-5, state_two.energy+5)\n",
      "    system_two.setDistance(10)\n",
      "    system_two.setAngle(angle)\n",
      "    if angle == 0: system_two.setConservedMomentaUnderRotation([int(2*state_one.m)])\n",
      "    system_two.setConservedParityUnderInversion(pi.ODD)\n",
      "    system_two.setConservedParityUnderPermutation(pi.ODD)\n",
      "    return system_two"
     ],
     "language": "python",
     "metadata": {},
     "outputs": [],
     "prompt_number": 8
    },
    {
     "cell_type": "markdown",
     "metadata": {},
     "source": [
      "Now, we can use the definitions from above to compose our calculation."
     ]
    },
    {
     "cell_type": "code",
     "collapsed": false,
     "input": [
      "def getEnergies(bfield):\n",
      "    # Set up one atom system\n",
      "    system_one = setup_system_one(bfield)\n",
      "    system_one.diagonalize()\n",
      "\n",
      "    # Calculate Zeeman shift\n",
      "    zeemanshift = 2*system_one.diagonal[system_one.getVectorindex(state_one)]\n",
      "    \n",
      "    # Set up two atom system\n",
      "    system_two = setup_system_two(system_one,angle)\n",
      "    system_two.diagonalize()\n",
      "    \n",
      "    # Calculate blockade interaction\n",
      "    eigenenergies = (system_two.diagonal-zeemanshift)*1e3 # MHz\n",
      "    overlaps = system_two.getOverlap(state_two)\n",
      "    blockade = 1/np.sqrt(np.sum(overlaps/eigenenergies**2))\n",
      "    \n",
      "    return blockade"
     ],
     "language": "python",
     "metadata": {},
     "outputs": [],
     "prompt_number": 9
    },
    {
     "cell_type": "markdown",
     "metadata": {},
     "source": [
      "With a little boiler-plate, we can then calculate and plot the result with `matplotlib`."
     ]
    },
    {
     "cell_type": "code",
     "collapsed": false,
     "input": [
      "plt.xlabel(r\"$B$ (Gauss)\")\n",
      "plt.ylabel(r\"Blockade (MHz)\")\n",
      "plt.xlim(-1,20)\n",
      "plt.ylim(0,0.4)\n",
      "\n",
      "angle = 0 # rad\n",
      "with Pool() as pool:\n",
      "    energies1 = pool.map(getEnergies, bfields)\n",
      "\n",
      "angle = np.pi/2 # rad\n",
      "with Pool() as pool:\n",
      "    energies2 = pool.map(getEnergies, bfields)\n",
      "\n",
      "plt.plot(bfields, energies1, '-', label=r\"$\\theta = 0$\")\n",
      "plt.plot(bfields, energies2, '-', label=r\"$\\theta = \\pi/2$\")\n",
      "plt.legend(loc=2, bbox_to_anchor=(1.02, 1), borderaxespad=0);"
     ],
     "language": "python",
     "metadata": {},
     "outputs": [
      {
       "metadata": {},
       "output_type": "display_data",
       "png": "[encoded data removed]",
       "text": [
        "<matplotlib.figure.Figure at 0x7fe2d1298c18>"
       ]
      }
     ],
     "prompt_number": 10
    }
   ],
   "metadata": {}
  }
 ]
}